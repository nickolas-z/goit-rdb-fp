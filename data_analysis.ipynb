{
 "cells": [
  {
   "cell_type": "code",
   "execution_count": 2,
   "id": "0553f172",
   "metadata": {},
   "outputs": [],
   "source": [
    "import pandas as pd"
   ]
  },
  {
   "cell_type": "code",
   "execution_count": 5,
   "id": "52329456",
   "metadata": {},
   "outputs": [
    {
     "data": {
      "text/html": [
       "<div>\n",
       "<style scoped>\n",
       "    .dataframe tbody tr th:only-of-type {\n",
       "        vertical-align: middle;\n",
       "    }\n",
       "\n",
       "    .dataframe tbody tr th {\n",
       "        vertical-align: top;\n",
       "    }\n",
       "\n",
       "    .dataframe thead th {\n",
       "        text-align: right;\n",
       "    }\n",
       "</style>\n",
       "<table border=\"1\" class=\"dataframe\">\n",
       "  <thead>\n",
       "    <tr style=\"text-align: right;\">\n",
       "      <th></th>\n",
       "      <th>Entity</th>\n",
       "      <th>Code</th>\n",
       "      <th>Year</th>\n",
       "      <th>Number_yaws</th>\n",
       "      <th>polio_cases</th>\n",
       "      <th>cases_guinea_worm</th>\n",
       "      <th>Number_rabies</th>\n",
       "      <th>Number_malaria</th>\n",
       "      <th>Number_hiv</th>\n",
       "      <th>Number_tuberculosis</th>\n",
       "      <th>Number_smallpox</th>\n",
       "      <th>Number_cholera_cases</th>\n",
       "    </tr>\n",
       "  </thead>\n",
       "  <tbody>\n",
       "    <tr>\n",
       "      <th>0</th>\n",
       "      <td>Afghanistan</td>\n",
       "      <td>AFG</td>\n",
       "      <td>1980</td>\n",
       "      <td>NaN</td>\n",
       "      <td>6160.0</td>\n",
       "      <td>0.0</td>\n",
       "      <td>NaN</td>\n",
       "      <td>NaN</td>\n",
       "      <td>NaN</td>\n",
       "      <td>NaN</td>\n",
       "      <td>NaN</td>\n",
       "      <td>NaN</td>\n",
       "    </tr>\n",
       "    <tr>\n",
       "      <th>1</th>\n",
       "      <td>Afghanistan</td>\n",
       "      <td>AFG</td>\n",
       "      <td>1981</td>\n",
       "      <td>NaN</td>\n",
       "      <td>5859.0</td>\n",
       "      <td>0.0</td>\n",
       "      <td>NaN</td>\n",
       "      <td>NaN</td>\n",
       "      <td>NaN</td>\n",
       "      <td>NaN</td>\n",
       "      <td>NaN</td>\n",
       "      <td>NaN</td>\n",
       "    </tr>\n",
       "    <tr>\n",
       "      <th>2</th>\n",
       "      <td>Afghanistan</td>\n",
       "      <td>AFG</td>\n",
       "      <td>1982</td>\n",
       "      <td>NaN</td>\n",
       "      <td>9730.0</td>\n",
       "      <td>0.0</td>\n",
       "      <td>NaN</td>\n",
       "      <td>NaN</td>\n",
       "      <td>NaN</td>\n",
       "      <td>NaN</td>\n",
       "      <td>NaN</td>\n",
       "      <td>NaN</td>\n",
       "    </tr>\n",
       "    <tr>\n",
       "      <th>3</th>\n",
       "      <td>Afghanistan</td>\n",
       "      <td>AFG</td>\n",
       "      <td>1983</td>\n",
       "      <td>NaN</td>\n",
       "      <td>13937.0</td>\n",
       "      <td>0.0</td>\n",
       "      <td>NaN</td>\n",
       "      <td>NaN</td>\n",
       "      <td>NaN</td>\n",
       "      <td>NaN</td>\n",
       "      <td>NaN</td>\n",
       "      <td>NaN</td>\n",
       "    </tr>\n",
       "    <tr>\n",
       "      <th>4</th>\n",
       "      <td>Afghanistan</td>\n",
       "      <td>AFG</td>\n",
       "      <td>1984</td>\n",
       "      <td>NaN</td>\n",
       "      <td>3864.0</td>\n",
       "      <td>0.0</td>\n",
       "      <td>NaN</td>\n",
       "      <td>NaN</td>\n",
       "      <td>NaN</td>\n",
       "      <td>NaN</td>\n",
       "      <td>NaN</td>\n",
       "      <td>NaN</td>\n",
       "    </tr>\n",
       "  </tbody>\n",
       "</table>\n",
       "</div>"
      ],
      "text/plain": [
       "        Entity Code  Year  Number_yaws  polio_cases  cases_guinea_worm  \\\n",
       "0  Afghanistan  AFG  1980          NaN       6160.0                0.0   \n",
       "1  Afghanistan  AFG  1981          NaN       5859.0                0.0   \n",
       "2  Afghanistan  AFG  1982          NaN       9730.0                0.0   \n",
       "3  Afghanistan  AFG  1983          NaN      13937.0                0.0   \n",
       "4  Afghanistan  AFG  1984          NaN       3864.0                0.0   \n",
       "\n",
       "   Number_rabies  Number_malaria  Number_hiv  Number_tuberculosis  \\\n",
       "0            NaN             NaN         NaN                  NaN   \n",
       "1            NaN             NaN         NaN                  NaN   \n",
       "2            NaN             NaN         NaN                  NaN   \n",
       "3            NaN             NaN         NaN                  NaN   \n",
       "4            NaN             NaN         NaN                  NaN   \n",
       "\n",
       "   Number_smallpox  Number_cholera_cases  \n",
       "0              NaN                   NaN  \n",
       "1              NaN                   NaN  \n",
       "2              NaN                   NaN  \n",
       "3              NaN                   NaN  \n",
       "4              NaN                   NaN  "
      ]
     },
     "execution_count": 5,
     "metadata": {},
     "output_type": "execute_result"
    }
   ],
   "source": [
    "df = pd.read_csv('./assets/infectious_cases.csv')\n",
    "df.head()"
   ]
  },
  {
   "cell_type": "code",
   "execution_count": 7,
   "id": "01cfc225",
   "metadata": {},
   "outputs": [
    {
     "name": "stdout",
     "output_type": "stream",
     "text": [
      "<class 'pandas.core.frame.DataFrame'>\n",
      "RangeIndex: 10521 entries, 0 to 10520\n",
      "Data columns (total 12 columns):\n",
      " #   Column                Non-Null Count  Dtype  \n",
      "---  ------                --------------  -----  \n",
      " 0   Entity                10521 non-null  object \n",
      " 1   Code                  9393 non-null   object \n",
      " 2   Year                  10521 non-null  int64  \n",
      " 3   Number_yaws           74 non-null     float64\n",
      " 4   polio_cases           7610 non-null   float64\n",
      " 5   cases_guinea_worm     8428 non-null   float64\n",
      " 6   Number_rabies         6780 non-null   float64\n",
      " 7   Number_malaria        6780 non-null   float64\n",
      " 8   Number_hiv            6780 non-null   float64\n",
      " 9   Number_tuberculosis   6780 non-null   float64\n",
      " 10  Number_smallpox       104 non-null    float64\n",
      " 11  Number_cholera_cases  2967 non-null   float64\n",
      "dtypes: float64(9), int64(1), object(2)\n",
      "memory usage: 986.5+ KB\n"
     ]
    }
   ],
   "source": [
    "df.info()"
   ]
  },
  {
   "cell_type": "code",
   "execution_count": 9,
   "id": "e32ed33a",
   "metadata": {},
   "outputs": [
    {
     "data": {
      "text/plain": [
       "Entity                      0\n",
       "Code                     1128\n",
       "Year                        0\n",
       "Number_yaws             10447\n",
       "polio_cases              2911\n",
       "cases_guinea_worm        2093\n",
       "Number_rabies            3741\n",
       "Number_malaria           3741\n",
       "Number_hiv               3741\n",
       "Number_tuberculosis      3741\n",
       "Number_smallpox         10417\n",
       "Number_cholera_cases     7554\n",
       "dtype: int64"
      ]
     },
     "execution_count": 9,
     "metadata": {},
     "output_type": "execute_result"
    }
   ],
   "source": [
    "df.isnull().sum()"
   ]
  },
  {
   "cell_type": "code",
   "execution_count": 8,
   "id": "6705fb10",
   "metadata": {},
   "outputs": [
    {
     "name": "stdout",
     "output_type": "stream",
     "text": [
      "Max length of 'Entity': 34\n",
      "Min length of 'Entity': 3\n",
      "Max length of 'Code': 8.0\n",
      "Min length of 'Code': 3.0\n",
      "Max length of 'Year': 4\n",
      "Min length of 'Year': 4\n"
     ]
    }
   ],
   "source": [
    "print(\"Max length of 'Entity':\", df['Entity'].str.len().max())\n",
    "print(\"Min length of 'Entity':\", df['Entity'].str.len().min())\n",
    "\n",
    "print(\"Max length of 'Code':\", df['Code'].str.len().max())\n",
    "print(\"Min length of 'Code':\", df['Code'].str.len().min())\n",
    "\n",
    "print(\"Max length of 'Year':\", df['Year'].astype(str).str.len().max())\n",
    "print(\"Min length of 'Year':\", df['Year'].astype(str).str.len().min())"
   ]
  }
 ],
 "metadata": {
  "kernelspec": {
   "display_name": "goit-rdb-hw-04-py3.12",
   "language": "python",
   "name": "python3"
  },
  "language_info": {
   "codemirror_mode": {
    "name": "ipython",
    "version": 3
   },
   "file_extension": ".py",
   "mimetype": "text/x-python",
   "name": "python",
   "nbconvert_exporter": "python",
   "pygments_lexer": "ipython3",
   "version": "3.12.3"
  }
 },
 "nbformat": 4,
 "nbformat_minor": 5
}
